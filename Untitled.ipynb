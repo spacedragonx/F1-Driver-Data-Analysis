{
 "cells": [
  {
   "cell_type": "code",
   "execution_count": 6,
   "id": "670f0535-5cd4-4aef-a19f-c3fe32b0b391",
   "metadata": {},
   "outputs": [],
   "source": [
    "from matplotlib import pyplot as plt\n",
    "import numpy as np\n",
    "import pandas as pd\n",
    "\n",
    "dt = pd.read_csv('./data/races.csv')"
   ]
  },
  {
   "cell_type": "code",
   "execution_count": 14,
   "id": "1c532388-cb54-44f5-b8cb-e2518f852767",
   "metadata": {},
   "outputs": [
    {
     "name": "stdout",
     "output_type": "stream",
     "text": [
      "   raceId  year  round  circuitId                   name        date  \\\n",
      "0       1  2009      1          1  Australian Grand Prix  2009-03-29   \n",
      "1       2  2009      2          2   Malaysian Grand Prix  2009-04-05   \n",
      "2       3  2009      3         17     Chinese Grand Prix  2009-04-19   \n",
      "3       4  2009      4          3     Bahrain Grand Prix  2009-04-26   \n",
      "4       5  2009      5          4     Spanish Grand Prix  2009-05-10   \n",
      "\n",
      "       time                                                url fp1_date  \\\n",
      "0  06:00:00  http://en.wikipedia.org/wiki/2009_Australian_G...       \\N   \n",
      "1  09:00:00  http://en.wikipedia.org/wiki/2009_Malaysian_Gr...       \\N   \n",
      "2  07:00:00  http://en.wikipedia.org/wiki/2009_Chinese_Gran...       \\N   \n",
      "3  12:00:00  http://en.wikipedia.org/wiki/2009_Bahrain_Gran...       \\N   \n",
      "4  12:00:00  http://en.wikipedia.org/wiki/2009_Spanish_Gran...       \\N   \n",
      "\n",
      "  fp1_time fp2_date fp2_time fp3_date fp3_time quali_date quali_time  \\\n",
      "0       \\N       \\N       \\N       \\N       \\N         \\N         \\N   \n",
      "1       \\N       \\N       \\N       \\N       \\N         \\N         \\N   \n",
      "2       \\N       \\N       \\N       \\N       \\N         \\N         \\N   \n",
      "3       \\N       \\N       \\N       \\N       \\N         \\N         \\N   \n",
      "4       \\N       \\N       \\N       \\N       \\N         \\N         \\N   \n",
      "\n",
      "  sprint_date sprint_time  \n",
      "0          \\N          \\N  \n",
      "1          \\N          \\N  \n",
      "2          \\N          \\N  \n",
      "3          \\N          \\N  \n",
      "4          \\N          \\N  \n"
     ]
    }
   ],
   "source": [
    "print(dt.head())"
   ]
  },
  {
   "cell_type": "code",
   "execution_count": 7,
   "id": "0887939f-828d-4468-bdd2-631c5906b4b1",
   "metadata": {},
   "outputs": [
    {
     "name": "stdout",
     "output_type": "stream",
     "text": [
      "<class 'pandas.core.frame.DataFrame'>\n",
      "RangeIndex: 1125 entries, 0 to 1124\n",
      "Data columns (total 18 columns):\n",
      " #   Column       Non-Null Count  Dtype \n",
      "---  ------       --------------  ----- \n",
      " 0   raceId       1125 non-null   int64 \n",
      " 1   year         1125 non-null   int64 \n",
      " 2   round        1125 non-null   int64 \n",
      " 3   circuitId    1125 non-null   int64 \n",
      " 4   name         1125 non-null   object\n",
      " 5   date         1125 non-null   object\n",
      " 6   time         1125 non-null   object\n",
      " 7   url          1125 non-null   object\n",
      " 8   fp1_date     1125 non-null   object\n",
      " 9   fp1_time     1125 non-null   object\n",
      " 10  fp2_date     1125 non-null   object\n",
      " 11  fp2_time     1125 non-null   object\n",
      " 12  fp3_date     1125 non-null   object\n",
      " 13  fp3_time     1125 non-null   object\n",
      " 14  quali_date   1125 non-null   object\n",
      " 15  quali_time   1125 non-null   object\n",
      " 16  sprint_date  1125 non-null   object\n",
      " 17  sprint_time  1125 non-null   object\n",
      "dtypes: int64(4), object(14)\n",
      "memory usage: 158.3+ KB\n",
      "None\n"
     ]
    }
   ],
   "source": [
    "print(dt.info())"
   ]
  },
  {
   "cell_type": "code",
   "execution_count": 21,
   "id": "6506246d-b950-4da0-ac66-562427382b2f",
   "metadata": {},
   "outputs": [],
   "source": [
    "filtered = dt[dt['year'] == 2024]"
   ]
  },
  {
   "cell_type": "code",
   "execution_count": 22,
   "id": "811ef5ea-dad5-4f3b-80e2-87f09a08519f",
   "metadata": {},
   "outputs": [
    {
     "name": "stdout",
     "output_type": "stream",
     "text": [
      "      raceId  year  round  circuitId                       name        date  \\\n",
      "1101    1121  2024      1          3         Bahrain Grand Prix  2024-03-02   \n",
      "1102    1122  2024      2         77   Saudi Arabian Grand Prix  2024-03-09   \n",
      "1103    1123  2024      3          1      Australian Grand Prix  2024-03-24   \n",
      "1104    1124  2024      4         22        Japanese Grand Prix  2024-04-07   \n",
      "1105    1125  2024      5         17         Chinese Grand Prix  2024-04-21   \n",
      "1106    1126  2024      6         79           Miami Grand Prix  2024-05-05   \n",
      "1107    1127  2024      7         21  Emilia Romagna Grand Prix  2024-05-19   \n",
      "1108    1128  2024      8          6          Monaco Grand Prix  2024-05-26   \n",
      "1109    1129  2024      9          7        Canadian Grand Prix  2024-06-09   \n",
      "1110    1130  2024     10          4         Spanish Grand Prix  2024-06-23   \n",
      "1111    1131  2024     11         70        Austrian Grand Prix  2024-06-30   \n",
      "1112    1132  2024     12          9         British Grand Prix  2024-07-07   \n",
      "1113    1133  2024     13         11       Hungarian Grand Prix  2024-07-21   \n",
      "1114    1134  2024     14         13         Belgian Grand Prix  2024-07-28   \n",
      "1115    1135  2024     15         39           Dutch Grand Prix  2024-08-25   \n",
      "1116    1136  2024     16         14         Italian Grand Prix  2024-09-01   \n",
      "1117    1137  2024     17         73      Azerbaijan Grand Prix  2024-09-15   \n",
      "1118    1138  2024     18         15       Singapore Grand Prix  2024-09-22   \n",
      "1119    1139  2024     19         69   United States Grand Prix  2024-10-20   \n",
      "1120    1140  2024     20         32     Mexico City Grand Prix  2024-10-27   \n",
      "1121    1141  2024     21         18       São Paulo Grand Prix  2024-11-03   \n",
      "1122    1142  2024     22         80       Las Vegas Grand Prix  2024-11-23   \n",
      "1123    1143  2024     23         78           Qatar Grand Prix  2024-12-01   \n",
      "1124    1144  2024     24         24       Abu Dhabi Grand Prix  2024-12-08   \n",
      "\n",
      "          time                                                url    fp1_date  \\\n",
      "1101  15:00:00  https://en.wikipedia.org/wiki/2024_Bahrain_Gra...  2024-02-29   \n",
      "1102  17:00:00  https://en.wikipedia.org/wiki/2024_Saudi_Arabi...  2024-03-07   \n",
      "1103  04:00:00  https://en.wikipedia.org/wiki/2024_Australian_...  2024-03-22   \n",
      "1104  05:00:00  https://en.wikipedia.org/wiki/2024_Japanese_Gr...  2024-04-05   \n",
      "1105  07:00:00  https://en.wikipedia.org/wiki/2024_Chinese_Gra...  2024-04-19   \n",
      "1106  20:00:00  https://en.wikipedia.org/wiki/2024_Miami_Grand...  2024-05-03   \n",
      "1107  13:00:00  https://en.wikipedia.org/wiki/2024_Emilia_Roma...  2024-05-17   \n",
      "1108  13:00:00  https://en.wikipedia.org/wiki/2024_Monaco_Gran...  2024-05-24   \n",
      "1109  18:00:00  https://en.wikipedia.org/wiki/2024_Canadian_Gr...  2024-06-07   \n",
      "1110  13:00:00  https://en.wikipedia.org/wiki/2024_Spanish_Gra...  2024-06-21   \n",
      "1111  13:00:00  https://en.wikipedia.org/wiki/2024_Austrian_Gr...  2024-06-28   \n",
      "1112  14:00:00  https://en.wikipedia.org/wiki/2024_British_Gra...  2024-07-05   \n",
      "1113  13:00:00  https://en.wikipedia.org/wiki/2024_Hungarian_G...  2024-07-19   \n",
      "1114  13:00:00  https://en.wikipedia.org/wiki/2024_Belgian_Gra...  2024-07-26   \n",
      "1115  13:00:00  https://en.wikipedia.org/wiki/2024_Dutch_Grand...  2024-08-23   \n",
      "1116  13:00:00  https://en.wikipedia.org/wiki/2024_Italian_Gra...  2024-08-30   \n",
      "1117  11:00:00  https://en.wikipedia.org/wiki/2024_Azerbaijan_...  2024-09-13   \n",
      "1118  12:00:00  https://en.wikipedia.org/wiki/2024_Singapore_G...  2024-09-20   \n",
      "1119  19:00:00  https://en.wikipedia.org/wiki/2024_United_Stat...  2024-10-18   \n",
      "1120  20:00:00  https://en.wikipedia.org/wiki/2024_Mexico_City...  2024-10-25   \n",
      "1121  17:00:00  https://en.wikipedia.org/wiki/2024_S%C3%A3o_Pa...  2024-11-01   \n",
      "1122  06:00:00  https://en.wikipedia.org/wiki/2024_Las_Vegas_G...  2024-11-21   \n",
      "1123  17:00:00  https://en.wikipedia.org/wiki/2024_Qatar_Grand...  2024-11-29   \n",
      "1124  13:00:00  https://en.wikipedia.org/wiki/2024_Abu_Dhabi_G...  2024-12-06   \n",
      "\n",
      "      fp1_time    fp2_date  fp2_time    fp3_date  fp3_time  quali_date  \\\n",
      "1101  11:30:00  2024-02-29  15:00:00  2024-03-01  12:30:00  2024-03-01   \n",
      "1102  13:30:00  2024-03-07  17:00:00  2024-03-08  13:30:00  2024-03-08   \n",
      "1103  01:30:00  2024-03-22  05:00:00  2024-03-23  01:30:00  2024-03-23   \n",
      "1104  02:30:00  2024-04-05  06:00:00  2024-04-06  02:30:00  2024-04-06   \n",
      "1105  03:30:00  2024-04-19  07:30:00          \\N        \\N  2024-04-20   \n",
      "1106  16:30:00  2024-05-03  20:30:00          \\N        \\N  2024-05-04   \n",
      "1107  11:30:00  2024-05-17  15:00:00  2024-05-18  10:30:00  2024-05-18   \n",
      "1108  11:30:00  2024-05-24  15:00:00  2024-05-25  10:30:00  2024-05-25   \n",
      "1109  17:30:00  2024-06-07  21:00:00  2024-06-08  16:30:00  2024-06-08   \n",
      "1110  11:30:00  2024-06-21  15:00:00  2024-06-22  10:30:00  2024-06-22   \n",
      "1111  10:30:00  2024-06-28  14:30:00          \\N        \\N  2024-06-29   \n",
      "1112  11:30:00  2024-07-05  15:00:00  2024-07-06  10:30:00  2024-07-06   \n",
      "1113  11:30:00  2024-07-19  15:00:00  2024-07-20  10:30:00  2024-07-20   \n",
      "1114  11:30:00  2024-07-26  15:00:00  2024-07-27  10:30:00  2024-07-27   \n",
      "1115  10:30:00  2024-08-23  14:00:00  2024-08-24  09:30:00  2024-08-24   \n",
      "1116  11:30:00  2024-08-30  15:00:00  2024-08-31  10:30:00  2024-08-31   \n",
      "1117  09:30:00  2024-09-13  13:00:00  2024-09-14  08:30:00  2024-09-14   \n",
      "1118  09:30:00  2024-09-20  13:00:00  2024-09-21  09:30:00  2024-09-21   \n",
      "1119  17:30:00  2024-10-18  21:30:00          \\N        \\N  2024-10-19   \n",
      "1120  18:30:00  2024-10-25  22:00:00  2024-10-26  17:30:00  2024-10-26   \n",
      "1121  14:30:00  2024-11-01  18:30:00          \\N        \\N  2024-11-02   \n",
      "1122  02:30:00  2024-11-21  06:00:00  2024-11-22  02:30:00  2024-11-22   \n",
      "1123  13:30:00  2024-11-29  17:30:00          \\N        \\N  2024-11-30   \n",
      "1124  09:30:00  2024-12-06  13:00:00  2024-12-07  10:30:00  2024-12-07   \n",
      "\n",
      "     quali_time sprint_date sprint_time  \n",
      "1101   16:00:00          \\N          \\N  \n",
      "1102   17:00:00          \\N          \\N  \n",
      "1103   05:00:00          \\N          \\N  \n",
      "1104   06:00:00          \\N          \\N  \n",
      "1105   07:00:00  2024-04-20    03:00:00  \n",
      "1106   20:00:00  2024-05-04    16:00:00  \n",
      "1107   14:00:00          \\N          \\N  \n",
      "1108   14:00:00          \\N          \\N  \n",
      "1109   20:00:00          \\N          \\N  \n",
      "1110   14:00:00          \\N          \\N  \n",
      "1111   14:00:00  2024-06-29    10:00:00  \n",
      "1112   14:00:00          \\N          \\N  \n",
      "1113   14:00:00          \\N          \\N  \n",
      "1114   14:00:00          \\N          \\N  \n",
      "1115   13:00:00          \\N          \\N  \n",
      "1116   14:00:00          \\N          \\N  \n",
      "1117   12:00:00          \\N          \\N  \n",
      "1118   13:00:00          \\N          \\N  \n",
      "1119   22:00:00  2024-10-19    18:00:00  \n",
      "1120   21:00:00          \\N          \\N  \n",
      "1121   18:00:00  2024-11-02    14:00:00  \n",
      "1122   06:00:00          \\N          \\N  \n",
      "1123   17:00:00  2024-11-30    13:00:00  \n",
      "1124   14:00:00          \\N          \\N  \n"
     ]
    }
   ],
   "source": [
    "print(filtered)"
   ]
  },
  {
   "cell_type": "code",
   "execution_count": null,
   "id": "a73f2288-c9b1-470c-91c6-92757ee3a0d5",
   "metadata": {},
   "outputs": [],
   "source": []
  }
 ],
 "metadata": {
  "kernelspec": {
   "display_name": "Python 3 (ipykernel)",
   "language": "python",
   "name": "python3"
  },
  "language_info": {
   "codemirror_mode": {
    "name": "ipython",
    "version": 3
   },
   "file_extension": ".py",
   "mimetype": "text/x-python",
   "name": "python",
   "nbconvert_exporter": "python",
   "pygments_lexer": "ipython3",
   "version": "3.12.10"
  }
 },
 "nbformat": 4,
 "nbformat_minor": 5
}
